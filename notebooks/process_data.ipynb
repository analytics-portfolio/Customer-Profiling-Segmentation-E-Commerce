{
 "cells": [
  {
   "cell_type": "code",
   "execution_count": 2,
   "metadata": {},
   "outputs": [],
   "source": [
    "import pandas as pd\n",
    "import matplotlib.pyplot as plt\n",
    "\n",
    "data_path = '../data/data.csv'"
   ]
  },
  {
   "cell_type": "code",
   "execution_count": 3,
   "metadata": {},
   "outputs": [
    {
     "name": "stdout",
     "output_type": "stream",
     "text": [
      "------------------------------- SHAPE --------------------------------\n",
      "Rows: 541909\n",
      "Columns: 8\n",
      "--------------------- COLUMN NAMES & DATA TYPES ----------------------\n",
      "InvoiceNo              object\n",
      "StockCode              object\n",
      "Description            object\n",
      "Quantity                int64\n",
      "InvoiceDate    datetime64[ns]\n",
      "UnitPrice             float64\n",
      "CustomerID             object\n",
      "Country                object\n",
      "dtype: object\n",
      "---------------------- MISSING VALUE PERCENTAGE ----------------------\n",
      "InvoiceNo       0.00\n",
      "StockCode       0.00\n",
      "Description     0.27\n",
      "Quantity        0.00\n",
      "InvoiceDate     0.00\n",
      "UnitPrice       0.00\n",
      "CustomerID     24.93\n",
      "Country         0.00\n",
      "dtype: float64\n",
      "--------------------- DUPLICATE VALUE PERCENTAGE ---------------------\n",
      "Number of duplicates: 5268\n",
      "Percentage of duplicates: 0.97 %\n"
     ]
    }
   ],
   "source": [
    "# Load the data\n",
    "df = pd.read_csv(data_path, encoding=\"ISO-8859-1\", dtype={'CustomerID': str,'InvoiceNo': str})\n",
    "df['InvoiceDate'] = pd.to_datetime(df['InvoiceDate'])\n",
    "print(\" SHAPE \".center(70,'-'))\n",
    "print('Rows: {}'.format(df.shape[0]))\n",
    "print('Columns: {}'.format(df.shape[1]))\n",
    "\n",
    "print(\" COLUMN NAMES & DATA TYPES \".center(70,'-'))\n",
    "print(df.dtypes)\n",
    "\n",
    "# Check for missing values\n",
    "print(\" MISSING VALUE PERCENTAGE \".center(70,'-'))\n",
    "print(round(df.isnull().sum() / len(df) * 100, 2))\n",
    "\n",
    "# Check for duplicates\n",
    "print(\" DUPLICATE VALUE PERCENTAGE \".center(70,'-'))\n",
    "print(\"Number of duplicates:\", df.duplicated().sum())\n",
    "print('Percentage of duplicates:', round(df.duplicated().sum() / len(df) * 100, 2), '%')\n",
    "\n",
    "# Remove missing values and duplicates\n",
    "df = df.dropna()\n",
    "df = df.drop_duplicates()"
   ]
  },
  {
   "cell_type": "code",
   "execution_count": 4,
   "metadata": {},
   "outputs": [],
   "source": [
    "# Save processed data\n",
    "df.to_csv('../data/processed_data.csv', index=False)"
   ]
  }
 ],
 "metadata": {
  "kernelspec": {
   "display_name": "kaggle_1",
   "language": "python",
   "name": "python3"
  },
  "language_info": {
   "codemirror_mode": {
    "name": "ipython",
    "version": 3
   },
   "file_extension": ".py",
   "mimetype": "text/x-python",
   "name": "python",
   "nbconvert_exporter": "python",
   "pygments_lexer": "ipython3",
   "version": "3.1.0"
  }
 },
 "nbformat": 4,
 "nbformat_minor": 2
}
